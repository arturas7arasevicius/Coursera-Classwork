{
 "cells": [
  {
   "cell_type": "markdown",
   "metadata": {},
   "source": [
    "<h1>My Jupyter Notebook on Anaconda</h1>"
   ]
  },
  {
   "cell_type": "markdown",
   "metadata": {},
   "source": [
    "<b>Arturas</b> \n",
    "\n",
    "Data Scientist"
   ]
  },
  {
   "cell_type": "markdown",
   "metadata": {},
   "source": [
    "<i>I love learning why people behave the way they do and data science is able to answer these questions."
   ]
  },
  {
   "cell_type": "markdown",
   "metadata": {},
   "source": [
    "<h3>My code is an if statement and it responds based on the number of sandwiches which is x</h3>"
   ]
  },
  {
   "cell_type": "code",
   "execution_count": 27,
   "metadata": {},
   "outputs": [
    {
     "name": "stdout",
     "output_type": "stream",
     "text": [
      "Let's eat some sandwiches!\n"
     ]
    }
   ],
   "source": [
    "x = 6\n",
    "\n",
    "if x > 10:\n",
    "    print(\"That's a lot of sandwiches!\")\n",
    "    \n",
    "if x < 10:\n",
    "    print(\"Let's eat some sandwiches!\")\n",
    "    \n",
    "if x <=0:\n",
    "    print(\"I'm hungry! Can you make me a sandwich?\")"
   ]
  },
  {
   "attachments": {},
   "cell_type": "markdown",
   "metadata": {},
   "source": [
    "<ul>\n",
    "    <li> Peanut butter sandwich</li>\n",
    "    <li> Ham sandwich</li>\n",
    "    <li> Fish cake sandwich(bodybuilding type ;)</li>\n",
    "    </ul>\n",
    "    \n",
    "  \n",
    "   <b>Order a sandwich here!</b>\n",
    "   <a>https://www.subway.com/en-US</a>\n",
    "   \n",
    "   \n",
    "<table style=\"width:100%\">\n",
    "  <tr>\n",
    "    <th>Name:</th>\n",
    "    <td>Sandwich Master</td>\n",
    "  </tr>\n",
    "    \n",
    "  <tr>\n",
    "    <th rowspan=\"1\">Telephone:</th>\n",
    "    <td>55577854</td>\n",
    "  </tr>\n",
    "    \n",
    "  <tr>\n",
    "    <th rowspan=\"2\">Occupation:</th>\n",
    "    <td>Chef</td>\n",
    "  </tr>\n",
    "</table>"
   ]
  }
 ],
 "metadata": {
  "kernelspec": {
   "display_name": "Python 3",
   "language": "python",
   "name": "python3"
  },
  "language_info": {
   "codemirror_mode": {
    "name": "ipython",
    "version": 3
   },
   "file_extension": ".py",
   "mimetype": "text/x-python",
   "name": "python",
   "nbconvert_exporter": "python",
   "pygments_lexer": "ipython3",
   "version": "3.7.6"
  }
 },
 "nbformat": 4,
 "nbformat_minor": 4
}
